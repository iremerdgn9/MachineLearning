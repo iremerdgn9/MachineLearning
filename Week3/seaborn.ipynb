{
 "cells": [
  {
   "cell_type": "code",
   "execution_count": null,
   "metadata": {},
   "outputs": [],
   "source": [
    "# importing packages\n",
    "import seaborn as sns\n",
    "import matplotlib.pyplot as plt\n",
    "\n",
    "# loading dataset x\n",
    "data = sns.load_dataset(\"iris\")\n",
    "\n",
    "# draw lineplot\n",
    "sns.lineplot(x=\"sepal_length\", y=\"sepal_width\", data=data)\n",
    "plt.title('Title using Matplotlib Function')\n",
    "plt.xlim(5)\n",
    "sns.set_style(\"dark\")\n",
    "\n",
    "plt.show()\n"
   ]
  },
  {
   "cell_type": "code",
   "execution_count": null,
   "metadata": {},
   "outputs": [],
   "source": [
    "import seaborn as sns\n",
    "\n",
    "import matplotlib.pyplot as plt\n",
    "\n",
    "tips = sns.load_dataset(\"tips\")\n",
    "\n",
    "# customize the scatter plot\n",
    "\n",
    "sns.scatterplot(x=\"total_bill\", y=\"tip\", hue=\"sex\", size=\"size\", sizes=(50, 200), data=tips)\n",
    "\n",
    "# add labels and title\n",
    "\n",
    "plt.xlabel(\"Total Bill\")\n",
    "\n",
    "plt.ylabel(\"Tip\")\n",
    "\n",
    "plt.title(\"Relationship between Total Bill and Tip\")\n",
    "\n",
    "plt.show()"
   ]
  },
  {
   "cell_type": "code",
   "execution_count": null,
   "metadata": {},
   "outputs": [],
   "source": [
    "import seaborn as sns\n",
    "\n",
    "import matplotlib.pyplot as plt\n",
    "\n",
    "titanic = sns.load_dataset(\"titanic\")\n",
    "\n",
    "# customize the bar plot\n",
    "\n",
    "sns.barplot(x=\"class\", y=\"fare\", hue=\"sex\", palette=\"muted\", data=titanic)\n",
    "\n",
    "# add labels and title\n",
    "\n",
    "plt.xlabel(\"Class\")\n",
    "\n",
    "plt.ylabel(\"Fare\")\n",
    "\n",
    "plt.title(\"Average Fare by Class and Gender on the Titanic\")\n",
    "\n",
    "plt.show()"
   ]
  },
  {
   "cell_type": "code",
   "execution_count": null,
   "metadata": {},
   "outputs": [],
   "source": [
    "import seaborn as sns\n",
    "\n",
    "import matplotlib.pyplot as plt\n",
    "\n",
    "# Load the dataset\n",
    "flights = sns.load_dataset('flights')\n",
    "\n",
    "# Pivot the data\n",
    "flights = flights.pivot('month', 'year', 'passengers')\n",
    "\n",
    "# Create a heatmap\n",
    "sns.heatmap(flights, cmap='Blues', annot=True, fmt='d')\n",
    "\n",
    "# Set the title and axis labels\n",
    "plt.title('Passengers per month')\n",
    "\n",
    "plt.xlabel('Year')\n",
    "\n",
    "plt.ylabel('Month')\n",
    "\n",
    "plt.show()"
   ]
  },
  {
   "cell_type": "code",
   "execution_count": null,
   "metadata": {},
   "outputs": [],
   "source": [
    "import seaborn as sns\n",
    "\n",
    "import matplotlib.pyplot as plt\n",
    "\n",
    "# load the tips dataset from Seaborn\n",
    "tips = sns.load_dataset(\"tips\")\n",
    "\n",
    "sns.boxplot(x=\"day\", y=\"total_bill\", hue=\"time\", data=tips, palette=\"Set3\", linewidth=1.5, fliersize=4)\n",
    "\n",
    "\n",
    "# add a title, xlabel, and ylabel to the plot using Matplotlib functions\n",
    "\n",
    "plt.title(\"Box Plot of Total Bill by Day and Meal Time\")\n",
    "\n",
    "plt.xlabel(\"Day of the Week\")\n",
    "\n",
    "plt.ylabel(\"Total Bill ($)\")\n",
    "\n",
    "plt.show()"
   ]
  },
  {
   "cell_type": "code",
   "execution_count": null,
   "metadata": {},
   "outputs": [],
   "source": [
    "import plotly.express as px\n",
    "\n",
    "\n",
    "# Creating the Figure instance\n",
    "fig = px.line(x=[1, 2, 3], y=[1, 2, 3])\n",
    "\n",
    "# showing the plot\n",
    "fig.show()\n"
   ]
  },
  {
   "cell_type": "code",
   "execution_count": null,
   "metadata": {},
   "outputs": [],
   "source": [
    "import plotly.express as px\n",
    "\n",
    "# using the iris dataset\n",
    "df = px.data.iris()\n",
    "\n",
    "# plotting the line chart\n",
    "fig = px.line(df, x=\"species\", y=\"petal_width\")\n",
    "\n",
    "# showing the plot\n",
    "fig.show()\n"
   ]
  },
  {
   "cell_type": "code",
   "execution_count": null,
   "metadata": {},
   "outputs": [],
   "source": [
    "import plotly.express as px\n",
    "\n",
    "# using the iris dataset\n",
    "df = px.data.iris()\n",
    "\n",
    "# plotting the bar chart\n",
    "fig = px.bar(df, x=\"sepal_width\", y=\"sepal_length\")\n",
    "\n",
    "# showing the plot\n",
    "fig.show()\n"
   ]
  },
  {
   "cell_type": "code",
   "execution_count": null,
   "metadata": {},
   "outputs": [],
   "source": [
    "import plotly.express as px\n",
    "\n",
    "# using the iris dataset\n",
    "df = px.data.iris()\n",
    "\n",
    "# plotting the histogram\n",
    "fig = px.histogram(df, x=\"sepal_length\", y=\"petal_width\")\n",
    "\n",
    "# showing the plot\n",
    "fig.show()\n"
   ]
  },
  {
   "cell_type": "code",
   "execution_count": null,
   "metadata": {},
   "outputs": [],
   "source": [
    "import plotly.express as px\n",
    "\n",
    "# using the iris dataset\n",
    "df = px.data.iris()\n",
    "\n",
    "# plotting the scatter chart\n",
    "fig = px.scatter(df, x=\"species\", y=\"petal_width\")\n",
    "\n",
    "# showing the plot\n",
    "fig.show()\n"
   ]
  },
  {
   "cell_type": "code",
   "execution_count": null,
   "metadata": {},
   "outputs": [],
   "source": [
    "import plotly.express as px\n",
    "\n",
    "# using the tips dataset\n",
    "df = px.data.tips()\n",
    "\n",
    "# plotting the pie chart\n",
    "fig = px.pie(df, values=\"total_bill\", names=\"day\")\n",
    "\n",
    "# showing the plot\n",
    "fig.show()\n"
   ]
  },
  {
   "cell_type": "code",
   "execution_count": null,
   "metadata": {},
   "outputs": [],
   "source": [
    "https://www.geeksforgeeks.org/python-plotly-tutorial/\n",
    "\n",
    "https://www.geeksforgeeks.org/python-seaborn-tutorial/"
   ]
  }
 ],
 "metadata": {
  "language_info": {
   "name": "python"
  }
 },
 "nbformat": 4,
 "nbformat_minor": 2
}
