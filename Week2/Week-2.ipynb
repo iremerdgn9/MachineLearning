{
 "cells": [
  {
   "cell_type": "markdown",
   "metadata": {},
   "source": [
    "numpy basics"
   ]
  },
  {
   "cell_type": "code",
   "execution_count": null,
   "metadata": {},
   "outputs": [],
   "source": [
    "import numpy as np"
   ]
  },
  {
   "cell_type": "code",
   "execution_count": null,
   "metadata": {},
   "outputs": [],
   "source": [
    "array2=np.array([1,2,3,4,5,6,7,8,9,10,11,12,13,14,15])\n",
    "print(\"Vector:\",array2)\n",
    "a=array2.reshape(3,5)\n",
    "print(\"Two dimensional array:\",a)"
   ]
  },
  {
   "cell_type": "code",
   "execution_count": null,
   "metadata": {},
   "outputs": [],
   "source": [
    "print(\"shape:\",a.shape)\n",
    "print(\"dimension:\",a.ndim)\n",
    "print(\"data type:\",a.dtype.name)\n",
    "print(\"size:\",a.size)\n",
    "print(\"type:\",type(a))"
   ]
  },
  {
   "cell_type": "code",
   "execution_count": null,
   "metadata": {},
   "outputs": [],
   "source": [
    "x=np.array([1,2,3])\n",
    "y=np.array([4,5,6])\n",
    "print(x+y)\n",
    "print(x-y)\n",
    "print(x**2)"
   ]
  },
  {
   "cell_type": "code",
   "execution_count": null,
   "metadata": {},
   "outputs": [],
   "source": [
    "a=np.array([1,2,3])\n",
    "d=a.copy()\n",
    "print(d)\n",
    "b=a\n",
    "c=a\n",
    "b[0]=5\n",
    "print(a,b,c)"
   ]
  },
  {
   "cell_type": "code",
   "execution_count": null,
   "metadata": {},
   "outputs": [],
   "source": [
    "a=np.array([1,2,3,4,5,6,7])\n",
    "print(a[0])\n",
    "print(a[0:4])"
   ]
  },
  {
   "cell_type": "code",
   "execution_count": null,
   "metadata": {},
   "outputs": [],
   "source": [
    "reverse_array=a[::-1]\n",
    "print(reverse_array)"
   ]
  },
  {
   "cell_type": "code",
   "execution_count": null,
   "metadata": {},
   "outputs": [],
   "source": [
    "b=np.array([[1,2,3,4,5],[6,7,8,9,10]])\n",
    "print(b)\n",
    "print(b[1,1])\n",
    "print(b[:,1])\n",
    "print(b[1,:])\n",
    "print(b[1,1:4])\n",
    "print(b[-1,:])\n",
    "print(b[:,-1])"
   ]
  },
  {
   "cell_type": "markdown",
   "metadata": {},
   "source": [
    "matplotlib basics"
   ]
  },
  {
   "cell_type": "code",
   "execution_count": null,
   "metadata": {},
   "outputs": [],
   "source": [
    "import matplotlib.pyplot as plt\n",
    "import numpy as np\n",
    "data = np.random.randn(1000)\n",
    "\n",
    "plt.hist(data,bins=30)\n",
    "plt.title(\"histogram\")\n",
    "plt.xlabel(\"Values\")\n",
    "plt.ylabel(\"Frequencies\")\n",
    "plt.show()\n"
   ]
  },
  {
   "cell_type": "code",
   "execution_count": null,
   "metadata": {},
   "outputs": [],
   "source": [
    "sizes=[30,25,15,10,5,5]\n",
    "plt.pie(sizes)\n",
    "plt.title(\"Pie Chart\")\n",
    "plt.show()"
   ]
  }
 ],
 "metadata": {
  "kernelspec": {
   "display_name": "Python 3",
   "language": "python",
   "name": "python3"
  },
  "language_info": {
   "codemirror_mode": {
    "name": "ipython",
    "version": 3
   },
   "file_extension": ".py",
   "mimetype": "text/x-python",
   "name": "python",
   "nbconvert_exporter": "python",
   "pygments_lexer": "ipython3",
   "version": "3.12.2"
  }
 },
 "nbformat": 4,
 "nbformat_minor": 2
}
